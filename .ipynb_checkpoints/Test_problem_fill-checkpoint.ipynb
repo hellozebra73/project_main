{
 "cells": [
  {
   "cell_type": "code",
   "execution_count": 1,
   "metadata": {},
   "outputs": [],
   "source": [
    "#test functions to connect the database with the problem app-input "
   ]
  },
  {
   "cell_type": "markdown",
   "metadata": {},
   "source": [
    "### Django librearies"
   ]
  },
  {
   "cell_type": "code",
   "execution_count": 2,
   "metadata": {},
   "outputs": [],
   "source": [
    "from django.db import models\n",
    "from django.shortcuts import render\n",
    "from django.http import HttpResponse\n",
    "from django.core import serializers\n",
    "from django.views.generic import View"
   ]
  },
  {
   "cell_type": "markdown",
   "metadata": {},
   "source": [
    "### Additional libraries"
   ]
  },
  {
   "cell_type": "code",
   "execution_count": 3,
   "metadata": {},
   "outputs": [],
   "source": [
    "import json"
   ]
  },
  {
   "cell_type": "markdown",
   "metadata": {},
   "source": [
    "### Local libraries"
   ]
  },
  {
   "cell_type": "code",
   "execution_count": 4,
   "metadata": {},
   "outputs": [],
   "source": [
    "from LocationApp.models import *\n",
    "from BooksApp.models import *\n",
    "from SubjectsApp.models import *\n",
    "from ProblemsApp.models import *\n",
    "from StudentsApp.models import *"
   ]
  },
  {
   "cell_type": "code",
   "execution_count": 5,
   "metadata": {},
   "outputs": [],
   "source": [
    "from ProblemsApp.views import *\n",
    "from SubjectsApp.views import * \n",
    "from StudentsApp.views import *"
   ]
  },
  {
   "cell_type": "code",
   "execution_count": null,
   "metadata": {},
   "outputs": [],
   "source": []
  },
  {
   "cell_type": "code",
   "execution_count": 6,
   "metadata": {},
   "outputs": [],
   "source": [
    "from KIB.views_problem_fill import *"
   ]
  },
  {
   "cell_type": "markdown",
   "metadata": {},
   "source": [
    "### SubjectConstructor"
   ]
  },
  {
   "cell_type": "code",
   "execution_count": 7,
   "metadata": {},
   "outputs": [],
   "source": [
    "subject_cons = SubjectConstructor()\n",
    "subject_cons_a = subject_cons.SubjectExist()"
   ]
  },
  {
   "cell_type": "code",
   "execution_count": 8,
   "metadata": {},
   "outputs": [
    {
     "data": {
      "text/plain": [
       "<QuerySet [<Subject: Mathematics 101>, <Subject: Physics 101>, <Subject: Mathematics 102>]>"
      ]
     },
     "execution_count": 8,
     "metadata": {},
     "output_type": "execute_result"
    }
   ],
   "source": [
    "subject_cons.subject_in"
   ]
  },
  {
   "cell_type": "code",
   "execution_count": 9,
   "metadata": {},
   "outputs": [
    {
     "data": {
      "text/plain": [
       "'MATH101'"
      ]
     },
     "execution_count": 9,
     "metadata": {},
     "output_type": "execute_result"
    }
   ],
   "source": [
    "subject_cons_a[0].subject_id"
   ]
  },
  {
   "cell_type": "markdown",
   "metadata": {},
   "source": [
    "#### Subject contructor to json - loads all the subjects with the attributes of each one."
   ]
  },
  {
   "cell_type": "code",
   "execution_count": 10,
   "metadata": {},
   "outputs": [],
   "source": [
    "subject_cons_a_json = []\n",
    "for i in range(len(subject_cons_a)):\n",
    "    subject_cons_a_json.append(serializers.serialize(\"json\", [subject_cons_a[i]]))"
   ]
  },
  {
   "cell_type": "code",
   "execution_count": 11,
   "metadata": {},
   "outputs": [
    {
     "data": {
      "text/plain": [
       "['[{\"model\": \"SubjectsApp.subject\", \"pk\": \"MATH101\", \"fields\": {\"subject_name\": \"Mathematics 101\", \"description\": \"Math 101\", \"level\": \"Secondary\", \"country\": [\"COL\"], \"book\": [1], \"chapter\": [1, 2, 3, 4]}}]',\n",
       " '[{\"model\": \"SubjectsApp.subject\", \"pk\": \"PHY101\", \"fields\": {\"subject_name\": \"Physics 101\", \"description\": \"Physics 101\", \"level\": \"SH\", \"country\": [\"NOR\"], \"book\": [2], \"chapter\": [1, 2, 3, 4, 5]}}]',\n",
       " '[{\"model\": \"SubjectsApp.subject\", \"pk\": \"MATH102\", \"fields\": {\"subject_name\": \"Mathematics 102\", \"description\": \"Math 102\", \"level\": \"SH\", \"country\": [\"NOR\"], \"book\": [1], \"chapter\": [1, 2, 3, 4, 5, 6, 7]}}]']"
      ]
     },
     "execution_count": 11,
     "metadata": {},
     "output_type": "execute_result"
    }
   ],
   "source": [
    "subject_cons_a_json"
   ]
  },
  {
   "cell_type": "markdown",
   "metadata": {},
   "source": [
    "### TopicConstructor"
   ]
  },
  {
   "cell_type": "code",
   "execution_count": 12,
   "metadata": {},
   "outputs": [],
   "source": [
    "topic_cons = TopicConstructor()\n",
    "topic_cons_a = topic_cons.TopicExist()"
   ]
  },
  {
   "cell_type": "code",
   "execution_count": 13,
   "metadata": {},
   "outputs": [
    {
     "data": {
      "text/plain": [
       "<Topic: EQ_LINE: Equation of a line>"
      ]
     },
     "execution_count": 13,
     "metadata": {},
     "output_type": "execute_result"
    }
   ],
   "source": [
    "topic_cons_a[0]"
   ]
  },
  {
   "cell_type": "code",
   "execution_count": 14,
   "metadata": {},
   "outputs": [
    {
     "data": {
      "text/plain": [
       "<Subject: Physics 101>"
      ]
     },
     "execution_count": 14,
     "metadata": {},
     "output_type": "execute_result"
    }
   ],
   "source": [
    "subject_cons_a[1]"
   ]
  },
  {
   "cell_type": "code",
   "execution_count": 15,
   "metadata": {},
   "outputs": [
    {
     "data": {
      "text/plain": [
       "<QuerySet [<Topic: EQ_LINE: Equation of a line>, <Topic: Integral: Integral 101>, <Topic: FORCES_101: Forces 101>]>"
      ]
     },
     "execution_count": 15,
     "metadata": {},
     "output_type": "execute_result"
    }
   ],
   "source": [
    "topic_cons.topic_in"
   ]
  },
  {
   "cell_type": "code",
   "execution_count": 16,
   "metadata": {},
   "outputs": [
    {
     "data": {
      "text/plain": [
       "'EQ_LINE'"
      ]
     },
     "execution_count": 16,
     "metadata": {},
     "output_type": "execute_result"
    }
   ],
   "source": [
    "topic_cons_a[0].topic_id"
   ]
  },
  {
   "cell_type": "markdown",
   "metadata": {},
   "source": [
    "#### Topic contructor to json - loads all the subjects with the attributes of each one."
   ]
  },
  {
   "cell_type": "code",
   "execution_count": 17,
   "metadata": {},
   "outputs": [],
   "source": [
    "topic_cons_a_json = []\n",
    "for i in range(len(topic_cons_a)):\n",
    "    topic_cons_a_json.append(serializers.serialize(\"json\", [topic_cons_a[i]]))"
   ]
  },
  {
   "cell_type": "code",
   "execution_count": 18,
   "metadata": {},
   "outputs": [
    {
     "data": {
      "text/plain": [
       "['[{\"model\": \"SubjectsApp.topic\", \"pk\": \"EQ_LINE\", \"fields\": {\"topic_name\": \"Equation of a line\", \"description\": \"Eq line\", \"chapter\": [1], \"subject\": [\"MATH101\"]}}]',\n",
       " '[{\"model\": \"SubjectsApp.topic\", \"pk\": \"Integral\", \"fields\": {\"topic_name\": \"Integral 101\", \"description\": \"Integrals 101\", \"chapter\": [4], \"subject\": [\"MATH102\"]}}]',\n",
       " '[{\"model\": \"SubjectsApp.topic\", \"pk\": \"FORCES_101\", \"fields\": {\"topic_name\": \"Forces 101\", \"description\": \"Forces 101\", \"chapter\": [3, 4, 5], \"subject\": [\"PHY101\"]}}]']"
      ]
     },
     "execution_count": 18,
     "metadata": {},
     "output_type": "execute_result"
    }
   ],
   "source": [
    "topic_cons_a_json"
   ]
  },
  {
   "cell_type": "markdown",
   "metadata": {},
   "source": [
    "### Problem constructor"
   ]
  },
  {
   "cell_type": "code",
   "execution_count": 19,
   "metadata": {},
   "outputs": [],
   "source": [
    "prob_cons1 = ProblemConstructor(topic_id_in=topic_cons_a[0])\n",
    "prob_cons2 = ProblemConstructor(problem_id = 3)\n",
    "prob_cons1_a = prob_cons1.ProblemExist()\n",
    "prob_cons2_a = prob_cons2.ProblemExist()"
   ]
  },
  {
   "cell_type": "code",
   "execution_count": 20,
   "metadata": {},
   "outputs": [
    {
     "data": {
      "text/plain": [
       "<QuerySet [<Problem: EQ_LINE: Equation of a line Equation of a line 1>]>"
      ]
     },
     "execution_count": 20,
     "metadata": {},
     "output_type": "execute_result"
    }
   ],
   "source": [
    "prob_cons1_a"
   ]
  },
  {
   "cell_type": "code",
   "execution_count": 21,
   "metadata": {},
   "outputs": [],
   "source": [
    "asd = ProblemConstructor(topic_id_in=topic_cons_a[0],problem_id=2)"
   ]
  },
  {
   "cell_type": "code",
   "execution_count": 22,
   "metadata": {},
   "outputs": [],
   "source": [
    "asd1=asd.ProblemExist()"
   ]
  },
  {
   "cell_type": "code",
   "execution_count": null,
   "metadata": {},
   "outputs": [],
   "source": []
  },
  {
   "cell_type": "markdown",
   "metadata": {},
   "source": [
    "### Problem numeral constructor"
   ]
  },
  {
   "cell_type": "code",
   "execution_count": 23,
   "metadata": {},
   "outputs": [],
   "source": [
    "prob_num1 = ProblemNumeralConstructor(problem_id_in = prob_cons1_a[0])\n",
    "prob_num2 = ProblemNumeralConstructor(numeral_number_in = 1)\n",
    "prob_num1_a = prob_num1.ProblemNumeralExist()\n",
    "prob_num2_a = prob_num2.ProblemNumeralExist()"
   ]
  },
  {
   "cell_type": "code",
   "execution_count": 25,
   "metadata": {},
   "outputs": [],
   "source": [
    "prob_num1 = ProblemNumeralConstructor(problem_id_in=prob_cons1_a[0],numeral_number_in = 1)"
   ]
  },
  {
   "cell_type": "code",
   "execution_count": 26,
   "metadata": {},
   "outputs": [
    {
     "data": {
      "text/plain": [
       "<ProblemNumeral: ProblemNumeral object (1)>"
      ]
     },
     "execution_count": 26,
     "metadata": {},
     "output_type": "execute_result"
    }
   ],
   "source": [
    "prob_num1.ProblemNumeralExist()"
   ]
  },
  {
   "cell_type": "code",
   "execution_count": null,
   "metadata": {},
   "outputs": [],
   "source": [
    "prob_num2_a"
   ]
  },
  {
   "cell_type": "code",
   "execution_count": null,
   "metadata": {},
   "outputs": [],
   "source": [
    "Problem.objects.latest('id').id"
   ]
  },
  {
   "cell_type": "code",
   "execution_count": null,
   "metadata": {},
   "outputs": [],
   "source": [
    "Problem.objects.all()"
   ]
  },
  {
   "cell_type": "markdown",
   "metadata": {},
   "source": [
    "### Step constructor"
   ]
  },
  {
   "cell_type": "code",
   "execution_count": null,
   "metadata": {},
   "outputs": [],
   "source": [
    "step_num1 = StepConstructor(s_number = 1)\n",
    "step_num2 = StepConstructor(prob_num_in = prob_num2_a[0])\n",
    "step_num1_a = step_num1.StepExist()\n",
    "step_num2_a = step_num2.StepExist()"
   ]
  },
  {
   "cell_type": "code",
   "execution_count": null,
   "metadata": {},
   "outputs": [],
   "source": [
    "step_num1_a[4]"
   ]
  },
  {
   "cell_type": "code",
   "execution_count": null,
   "metadata": {},
   "outputs": [],
   "source": [
    "step_num2_a[0]"
   ]
  },
  {
   "cell_type": "markdown",
   "metadata": {},
   "source": [
    "### Substep constructor"
   ]
  },
  {
   "cell_type": "code",
   "execution_count": null,
   "metadata": {},
   "outputs": [],
   "source": [
    "substep_num1 = SubstepConstructor(step_id_in = step_num1_a[4])\n",
    "substep_num2 = SubstepConstructor(sub_number_in = 1)\n",
    "substep_num1_a = substep_num1.SubstepExist()\n",
    "substep_num2_a = substep_num2.SubstepExist()"
   ]
  },
  {
   "cell_type": "code",
   "execution_count": null,
   "metadata": {},
   "outputs": [],
   "source": [
    "substep_num1_a"
   ]
  },
  {
   "cell_type": "code",
   "execution_count": null,
   "metadata": {},
   "outputs": [],
   "source": [
    "substep_num2_a[0].step_id"
   ]
  },
  {
   "cell_type": "markdown",
   "metadata": {},
   "source": [
    "### Student constructor"
   ]
  },
  {
   "cell_type": "code",
   "execution_count": null,
   "metadata": {},
   "outputs": [],
   "source": [
    "student_id_in = 1\n",
    "student_cons = StudentConstructor(student_id_in = 1)\n",
    "student_cons_1 = student_cons.StudentExist()"
   ]
  },
  {
   "cell_type": "code",
   "execution_count": null,
   "metadata": {},
   "outputs": [],
   "source": [
    "student_cons_1"
   ]
  },
  {
   "cell_type": "code",
   "execution_count": null,
   "metadata": {},
   "outputs": [],
   "source": [
    "#Student problem constructor"
   ]
  },
  {
   "cell_type": "code",
   "execution_count": null,
   "metadata": {},
   "outputs": [],
   "source": [
    "st_id = student_cons_1\n",
    "prob_id = prob_cons1_a[0]\n",
    "student_prob_cons = StudentProblemCons(st_id, prob_id)\n",
    "student_prob_cons_1 = student_prob_cons.StudentProblemExist()"
   ]
  },
  {
   "cell_type": "code",
   "execution_count": null,
   "metadata": {},
   "outputs": [],
   "source": [
    "student_prob_cons_1"
   ]
  },
  {
   "cell_type": "code",
   "execution_count": null,
   "metadata": {},
   "outputs": [],
   "source": [
    "student_prob_cons_1.succesful_attemps"
   ]
  },
  {
   "cell_type": "code",
   "execution_count": null,
   "metadata": {},
   "outputs": [],
   "source": [
    "#Student step/numeral constructor"
   ]
  },
  {
   "cell_type": "code",
   "execution_count": null,
   "metadata": {},
   "outputs": [],
   "source": [
    "p_st_id = student_prob_cons_1\n",
    "numeral_id_in = prob_num2_a[0]\n",
    "step_id_in = step_num1_a[0]\n",
    "student_step_cons = StudentStepCons(p_st_id, numeral_id_in, step_id_in)\n",
    "student_step_cons_1 = student_step_cons.StudentStepConsExist()"
   ]
  },
  {
   "cell_type": "code",
   "execution_count": null,
   "metadata": {},
   "outputs": [],
   "source": [
    "student_step_cons_1"
   ]
  },
  {
   "cell_type": "code",
   "execution_count": null,
   "metadata": {},
   "outputs": [],
   "source": []
  },
  {
   "cell_type": "markdown",
   "metadata": {},
   "source": [
    "### Problem fill"
   ]
  },
  {
   "cell_type": "code",
   "execution_count": null,
   "metadata": {},
   "outputs": [],
   "source": [
    "#The student choose subject (there is a subject_search == TRUE from the front-end)"
   ]
  },
  {
   "cell_type": "code",
   "execution_count": null,
   "metadata": {},
   "outputs": [],
   "source": [
    "subject_id_in ='MATH101'\n",
    "topic_id_in = topic_cons_a[0]\n",
    "subject_list = DataTeacherFill()"
   ]
  },
  {
   "cell_type": "code",
   "execution_count": null,
   "metadata": {},
   "outputs": [],
   "source": [
    "subject_list.test_get()"
   ]
  },
  {
   "cell_type": "code",
   "execution_count": null,
   "metadata": {},
   "outputs": [],
   "source": [
    "#test post"
   ]
  },
  {
   "cell_type": "code",
   "execution_count": null,
   "metadata": {},
   "outputs": [],
   "source": [
    "subject_id_in ='MATH101'\n",
    "topic_id_in = topic_cons_a[1]\n",
    "subject_list = DataTeacherFill(subject_id_in = subject_id_in, topic_id_in = topic_id_in)"
   ]
  },
  {
   "cell_type": "code",
   "execution_count": null,
   "metadata": {},
   "outputs": [],
   "source": [
    "subject_list.test_post()"
   ]
  },
  {
   "cell_type": "code",
   "execution_count": null,
   "metadata": {},
   "outputs": [],
   "source": [
    "a2"
   ]
  },
  {
   "cell_type": "code",
   "execution_count": null,
   "metadata": {},
   "outputs": [],
   "source": [
    "len(a2)"
   ]
  },
  {
   "cell_type": "code",
   "execution_count": null,
   "metadata": {},
   "outputs": [],
   "source": []
  }
 ],
 "metadata": {
  "kernelspec": {
   "display_name": "Django Shell-Plus",
   "language": "python",
   "name": "django_extensions"
  },
  "language_info": {
   "codemirror_mode": {
    "name": "ipython",
    "version": 3
   },
   "file_extension": ".py",
   "mimetype": "text/x-python",
   "name": "python",
   "nbconvert_exporter": "python",
   "pygments_lexer": "ipython3",
   "version": "3.6.4"
  }
 },
 "nbformat": 4,
 "nbformat_minor": 2
}
